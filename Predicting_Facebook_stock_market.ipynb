{
  "nbformat": 4,
  "nbformat_minor": 0,
  "metadata": {
    "colab": {
      "name": "Predicting Facebook stock market.ipynb",
      "provenance": [],
      "collapsed_sections": [],
      "toc_visible": true
    },
    "kernelspec": {
      "name": "python3",
      "display_name": "Python 3"
    }
  },
  "cells": [
    {
      "cell_type": "code",
      "metadata": {
        "id": "Nt2xmuKxVj2s"
      },
      "source": [
        "# Importing all necessary librries\r\n",
        "import numpy as np\r\n",
        "import pandas as pd\r\n",
        "import matplotlib.pyplot as plt\r\n",
        "import pandas_datareader as web\r\n",
        "import seaborn as sns\r\n",
        "import datetime as dt\r\n",
        "\r\n",
        "from sklearn.preprocessing import MinMaxScaler\r\n",
        "import tensorflow as tf\r\n",
        "from tensorflow.keras.models import Sequential\r\n",
        "from tensorflow.keras.layers import Dense, Dropout, LSTM"
      ],
      "execution_count": 1,
      "outputs": []
    },
    {
      "cell_type": "markdown",
      "metadata": {
        "id": "bqPNr-DHlf-X"
      },
      "source": [
        "### **Mining data from the web**"
      ]
    },
    {
      "cell_type": "markdown",
      "metadata": {
        "id": "8w1Tbmd6mFJk"
      },
      "source": [
        "*This phase will involve mining the facebook stock market data from the web through yahoo API (from 2010 to 2020)*"
      ]
    },
    {
      "cell_type": "code",
      "metadata": {
        "colab": {
          "base_uri": "https://localhost:8080/",
          "height": 235
        },
        "id": "zehfUJKBV6aI",
        "outputId": "61d26b6a-fbac-42da-ef26-9164160f8f12"
      },
      "source": [
        "# Importing the data containing daily information of the facebook stock market\r\n",
        "companyName = 'FB'\r\n",
        "startDate = dt.datetime(2010,1,1)\r\n",
        "endDate = dt.datetime(2020,1,1)\r\n",
        "\r\n",
        "data = web.DataReader(companyName, 'yahoo', startDate, endDate)\r\n",
        "data.head()"
      ],
      "execution_count": 2,
      "outputs": [
        {
          "output_type": "execute_result",
          "data": {
            "text/html": [
              "<div>\n",
              "<style scoped>\n",
              "    .dataframe tbody tr th:only-of-type {\n",
              "        vertical-align: middle;\n",
              "    }\n",
              "\n",
              "    .dataframe tbody tr th {\n",
              "        vertical-align: top;\n",
              "    }\n",
              "\n",
              "    .dataframe thead th {\n",
              "        text-align: right;\n",
              "    }\n",
              "</style>\n",
              "<table border=\"1\" class=\"dataframe\">\n",
              "  <thead>\n",
              "    <tr style=\"text-align: right;\">\n",
              "      <th></th>\n",
              "      <th>High</th>\n",
              "      <th>Low</th>\n",
              "      <th>Open</th>\n",
              "      <th>Close</th>\n",
              "      <th>Volume</th>\n",
              "      <th>Adj Close</th>\n",
              "    </tr>\n",
              "    <tr>\n",
              "      <th>Date</th>\n",
              "      <th></th>\n",
              "      <th></th>\n",
              "      <th></th>\n",
              "      <th></th>\n",
              "      <th></th>\n",
              "      <th></th>\n",
              "    </tr>\n",
              "  </thead>\n",
              "  <tbody>\n",
              "    <tr>\n",
              "      <th>2012-05-18</th>\n",
              "      <td>45.000000</td>\n",
              "      <td>38.000000</td>\n",
              "      <td>42.049999</td>\n",
              "      <td>38.230000</td>\n",
              "      <td>573576400</td>\n",
              "      <td>38.230000</td>\n",
              "    </tr>\n",
              "    <tr>\n",
              "      <th>2012-05-21</th>\n",
              "      <td>36.660000</td>\n",
              "      <td>33.000000</td>\n",
              "      <td>36.529999</td>\n",
              "      <td>34.029999</td>\n",
              "      <td>168192700</td>\n",
              "      <td>34.029999</td>\n",
              "    </tr>\n",
              "    <tr>\n",
              "      <th>2012-05-22</th>\n",
              "      <td>33.590000</td>\n",
              "      <td>30.940001</td>\n",
              "      <td>32.610001</td>\n",
              "      <td>31.000000</td>\n",
              "      <td>101786600</td>\n",
              "      <td>31.000000</td>\n",
              "    </tr>\n",
              "    <tr>\n",
              "      <th>2012-05-23</th>\n",
              "      <td>32.500000</td>\n",
              "      <td>31.360001</td>\n",
              "      <td>31.370001</td>\n",
              "      <td>32.000000</td>\n",
              "      <td>73600000</td>\n",
              "      <td>32.000000</td>\n",
              "    </tr>\n",
              "    <tr>\n",
              "      <th>2012-05-24</th>\n",
              "      <td>33.209999</td>\n",
              "      <td>31.770000</td>\n",
              "      <td>32.950001</td>\n",
              "      <td>33.029999</td>\n",
              "      <td>50237200</td>\n",
              "      <td>33.029999</td>\n",
              "    </tr>\n",
              "  </tbody>\n",
              "</table>\n",
              "</div>"
            ],
            "text/plain": [
              "                 High        Low       Open      Close     Volume  Adj Close\n",
              "Date                                                                        \n",
              "2012-05-18  45.000000  38.000000  42.049999  38.230000  573576400  38.230000\n",
              "2012-05-21  36.660000  33.000000  36.529999  34.029999  168192700  34.029999\n",
              "2012-05-22  33.590000  30.940001  32.610001  31.000000  101786600  31.000000\n",
              "2012-05-23  32.500000  31.360001  31.370001  32.000000   73600000  32.000000\n",
              "2012-05-24  33.209999  31.770000  32.950001  33.029999   50237200  33.029999"
            ]
          },
          "metadata": {
            "tags": []
          },
          "execution_count": 2
        }
      ]
    },
    {
      "cell_type": "code",
      "metadata": {
        "colab": {
          "base_uri": "https://localhost:8080/"
        },
        "id": "bRbnuX4smW9t",
        "outputId": "ad43c079-2401-48b5-f329-642054b5a4cd"
      },
      "source": [
        "# Analyzing basic information from the dataset\r\n",
        "data.info()"
      ],
      "execution_count": 3,
      "outputs": [
        {
          "output_type": "stream",
          "text": [
            "<class 'pandas.core.frame.DataFrame'>\n",
            "DatetimeIndex: 1917 entries, 2012-05-18 to 2019-12-31\n",
            "Data columns (total 6 columns):\n",
            " #   Column     Non-Null Count  Dtype  \n",
            "---  ------     --------------  -----  \n",
            " 0   High       1917 non-null   float64\n",
            " 1   Low        1917 non-null   float64\n",
            " 2   Open       1917 non-null   float64\n",
            " 3   Close      1917 non-null   float64\n",
            " 4   Volume     1917 non-null   int64  \n",
            " 5   Adj Close  1917 non-null   float64\n",
            "dtypes: float64(5), int64(1)\n",
            "memory usage: 104.8 KB\n"
          ],
          "name": "stdout"
        }
      ]
    },
    {
      "cell_type": "code",
      "metadata": {
        "colab": {
          "base_uri": "https://localhost:8080/",
          "height": 350
        },
        "id": "HsIWlLCtWAZZ",
        "outputId": "07120fc7-33b1-466c-8f81-a0560385bb0e"
      },
      "source": [
        "# Plotting the closing value of the stock market\r\n",
        "plt.figure(figsize=(7, 5))\r\n",
        "plt.title(\"Stock Market Prices for Facebook\")\r\n",
        "plt.plot(data['Open'], color='green', label='Open')\r\n",
        "plt.plot(data['High'], color='blue', label='High')\r\n",
        "plt.plot(data['Low'], color='black', label='Low')\r\n",
        "plt.plot(data['Close'], color='red', label='Close')\r\n",
        "plt.xlabel(\"Years\")\r\n",
        "plt.legend()\r\n",
        "plt.show()"
      ],
      "execution_count": 4,
      "outputs": [
        {
          "output_type": "display_data",
          "data": {
            "image/png": "[encoded data removed]",
            "text/plain": [
              "<Figure size 504x360 with 1 Axes>"
            ]
          },
          "metadata": {
            "tags": [],
            "needs_background": "light"
          }
        }
      ]
    },
    {
      "cell_type": "code",
      "metadata": {
        "colab": {
          "base_uri": "https://localhost:8080/",
          "height": 350
        },
        "id": "g4cnxET5uZ-0",
        "outputId": "eacbd327-44eb-4435-b77a-6dc00e1a3f43"
      },
      "source": [
        "# Understanding the variation in volumes throughout years\r\n",
        "plt.figure(figsize=(7, 5))\r\n",
        "plt.title(\"Variation of trading volumes for Facebook stock market\")\r\n",
        "plt.plot(data['Volume'], color='green')\r\n",
        "plt.xlabel(\"Years\")\r\n",
        "plt.show()"
      ],
      "execution_count": 5,
      "outputs": [
        {
          "output_type": "display_data",
          "data": {
            "image/png": "[encoded data removed]",
            "text/plain": [
              "<Figure size 504x360 with 1 Axes>"
            ]
          },
          "metadata": {
            "tags": [],
            "needs_background": "light"
          }
        }
      ]
    },
    {
      "cell_type": "markdown",
      "metadata": {
        "id": "dbGwJgfRmjDU"
      },
      "source": [
        "### **Preprocessing data**"
      ]
    },
    {
      "cell_type": "markdown",
      "metadata": {
        "id": "O-2HVSt7mm-k"
      },
      "source": [
        "*This phase will involve normalizing the closing prices data and the training for the LSTM model*"
      ]
    },
    {
      "cell_type": "code",
      "metadata": {
        "colab": {
          "base_uri": "https://localhost:8080/"
        },
        "id": "TYzn2t_2YTjd",
        "outputId": "b388fd12-6751-4a17-f7ff-386fcb2760a5"
      },
      "source": [
        "# Normalizing the closing prices of the stock market\r\n",
        "scaler = MinMaxScaler(feature_range=(0,1))\r\n",
        "scaled_data = scaler.fit_transform(data['Close'].values.reshape(-1, 1)) # Normalizing the close data since it is the one we will be predicting\r\n",
        "scaled_data"
      ],
      "execution_count": 6,
      "outputs": [
        {
          "output_type": "execute_result",
          "data": {
            "text/plain": [
              "array([[0.10261801],\n",
              "       [0.08159383],\n",
              "       [0.06642639],\n",
              "       ...,\n",
              "       [0.95294592],\n",
              "       [0.93447466],\n",
              "       [0.93867948]])"
            ]
          },
          "metadata": {
            "tags": []
          },
          "execution_count": 6
        }
      ]
    },
    {
      "cell_type": "code",
      "metadata": {
        "colab": {
          "base_uri": "https://localhost:8080/"
        },
        "id": "KYol_kOnaYOv",
        "outputId": "69ddfd05-dedc-4781-b1b2-76eb78fb909d"
      },
      "source": [
        "# Preparing the training set\r\n",
        "prediction_days = 60  # The model will be trained based on the previous 60 days\r\n",
        "X_train = []\r\n",
        "y_train = []\r\n",
        "\r\n",
        "for x in range(prediction_days, len(scaled_data)):\r\n",
        "  X_train.append(scaled_data[x-prediction_days:x, 0])\r\n",
        "  y_train.append(scaled_data[x, 0])\r\n",
        "\r\n",
        "len(X_train), len(y_train)"
      ],
      "execution_count": 7,
      "outputs": [
        {
          "output_type": "execute_result",
          "data": {
            "text/plain": [
              "(1857, 1857)"
            ]
          },
          "metadata": {
            "tags": []
          },
          "execution_count": 7
        }
      ]
    },
    {
      "cell_type": "code",
      "metadata": {
        "colab": {
          "base_uri": "https://localhost:8080/"
        },
        "id": "28vzlgu0cI5n",
        "outputId": "7c70dfa5-8c01-4f4a-9cc2-f32e3a43ad10"
      },
      "source": [
        "# Turning the training set into numpy array and reshaping \r\n",
        "\r\n",
        "X_train, y_train = np.array(X_train), np.array(y_train)\r\n",
        "X_train = np.reshape(X_train, (X_train.shape[0], X_train.shape[1], 1))\r\n",
        "X_train.shape, y_train.shape"
      ],
      "execution_count": 8,
      "outputs": [
        {
          "output_type": "execute_result",
          "data": {
            "text/plain": [
              "((1857, 60, 1), (1857,))"
            ]
          },
          "metadata": {
            "tags": []
          },
          "execution_count": 8
        }
      ]
    },
    {
      "cell_type": "code",
      "metadata": {
        "colab": {
          "base_uri": "https://localhost:8080/"
        },
        "id": "8yx1iPOLd8i0",
        "outputId": "66716e7b-fc09-4fe4-d207-4830fb9e6a29"
      },
      "source": [
        "# Building the model\r\n",
        "\r\n",
        "model = Sequential()\r\n",
        "model.add(LSTM(units=50, return_sequences=True, input_shape=(X_train.shape[1], 1)))\r\n",
        "model.add(Dropout(0.2))\r\n",
        "model.add(LSTM(units=50, return_sequences=True))\r\n",
        "model.add(Dropout(0.2))\r\n",
        "model.add(LSTM(units=50))\r\n",
        "model.add(Dropout(0.2))\r\n",
        "model.add(Dense(units=1))\r\n",
        "\r\n",
        "model.compile(optimizer = 'adam', loss='mean_squared_error')\r\n",
        "model.fit(X_train, y_train, epochs=100, batch_size=32)"
      ],
      "execution_count": 9,
      "outputs": [
        {
          "output_type": "stream",
          "text": [
            "Epoch 1/100\n",
            "59/59 [==============================] - 10s 81ms/step - loss: 0.0963\n",
            "Epoch 2/100\n",
            "59/59 [==============================] - 5s 85ms/step - loss: 0.0050\n",
            "Epoch 3/100\n",
            "59/59 [==============================] - 5s 86ms/step - loss: 0.0040\n",
            "Epoch 4/100\n",
            "59/59 [==============================] - 5s 85ms/step - loss: 0.0036\n",
            "Epoch 5/100\n",
            "59/59 [==============================] - 5s 85ms/step - loss: 0.0032\n",
            "Epoch 6/100\n",
            "59/59 [==============================] - 5s 85ms/step - loss: 0.0032\n",
            "Epoch 7/100\n",
            "59/59 [==============================] - 5s 85ms/step - loss: 0.0032\n",
            "Epoch 8/100\n",
            "59/59 [==============================] - 5s 85ms/step - loss: 0.0035\n",
            "Epoch 9/100\n",
            "59/59 [==============================] - 5s 86ms/step - loss: 0.0029\n",
            "Epoch 10/100\n",
            "59/59 [==============================] - 5s 86ms/step - loss: 0.0029\n",
            "Epoch 11/100\n",
            "59/59 [==============================] - 5s 86ms/step - loss: 0.0047\n",
            "Epoch 12/100\n",
            "59/59 [==============================] - 5s 86ms/step - loss: 0.0033\n",
            "Epoch 13/100\n",
            "59/59 [==============================] - 5s 86ms/step - loss: 0.0031\n",
            "Epoch 14/100\n",
            "59/59 [==============================] - 5s 85ms/step - loss: 0.0027\n",
            "Epoch 15/100\n",
            "59/59 [==============================] - 5s 89ms/step - loss: 0.0026\n",
            "Epoch 16/100\n",
            "59/59 [==============================] - 5s 86ms/step - loss: 0.0024\n",
            "Epoch 17/100\n",
            "59/59 [==============================] - 5s 83ms/step - loss: 0.0025\n",
            "Epoch 18/100\n",
            "59/59 [==============================] - 5s 83ms/step - loss: 0.0024\n",
            "Epoch 19/100\n",
            "59/59 [==============================] - 5s 81ms/step - loss: 0.0025\n",
            "Epoch 20/100\n",
            "59/59 [==============================] - 5s 81ms/step - loss: 0.0023\n",
            "Epoch 21/100\n",
            "59/59 [==============================] - 5s 84ms/step - loss: 0.0021\n",
            "Epoch 22/100\n",
            "59/59 [==============================] - 5s 81ms/step - loss: 0.0022\n",
            "Epoch 23/100\n",
            "59/59 [==============================] - 5s 82ms/step - loss: 0.0022\n",
            "Epoch 24/100\n",
            "59/59 [==============================] - 5s 83ms/step - loss: 0.0024\n",
            "Epoch 25/100\n",
            "59/59 [==============================] - 5s 83ms/step - loss: 0.0021\n",
            "Epoch 26/100\n",
            "59/59 [==============================] - 5s 83ms/step - loss: 0.0021\n",
            "Epoch 27/100\n",
            "59/59 [==============================] - 5s 83ms/step - loss: 0.0017\n",
            "Epoch 28/100\n",
            "59/59 [==============================] - 5s 82ms/step - loss: 0.0024\n",
            "Epoch 29/100\n",
            "59/59 [==============================] - 5s 82ms/step - loss: 0.0022\n",
            "Epoch 30/100\n",
            "59/59 [==============================] - 5s 81ms/step - loss: 0.0017\n",
            "Epoch 31/100\n",
            "59/59 [==============================] - 5s 84ms/step - loss: 0.0021\n",
            "Epoch 32/100\n",
            "59/59 [==============================] - 5s 82ms/step - loss: 0.0020\n",
            "Epoch 33/100\n",
            "59/59 [==============================] - 5s 82ms/step - loss: 0.0017\n",
            "Epoch 34/100\n",
            "59/59 [==============================] - 5s 84ms/step - loss: 0.0016\n",
            "Epoch 35/100\n",
            "59/59 [==============================] - 5s 82ms/step - loss: 0.0018\n",
            "Epoch 36/100\n",
            "59/59 [==============================] - 5s 81ms/step - loss: 0.0021\n",
            "Epoch 37/100\n",
            "59/59 [==============================] - 5s 84ms/step - loss: 0.0016\n",
            "Epoch 38/100\n",
            "59/59 [==============================] - 5s 82ms/step - loss: 0.0017\n",
            "Epoch 39/100\n",
            "59/59 [==============================] - 5s 82ms/step - loss: 0.0017\n",
            "Epoch 40/100\n",
            "59/59 [==============================] - 5s 87ms/step - loss: 0.0016\n",
            "Epoch 41/100\n",
            "59/59 [==============================] - 5s 82ms/step - loss: 0.0016\n",
            "Epoch 42/100\n",
            "59/59 [==============================] - 5s 84ms/step - loss: 0.0015\n",
            "Epoch 43/100\n",
            "59/59 [==============================] - 5s 85ms/step - loss: 0.0015\n",
            "Epoch 44/100\n",
            "59/59 [==============================] - 5s 84ms/step - loss: 0.0015\n",
            "Epoch 45/100\n",
            "59/59 [==============================] - 5s 83ms/step - loss: 0.0016\n",
            "Epoch 46/100\n",
            "59/59 [==============================] - 5s 85ms/step - loss: 0.0015\n",
            "Epoch 47/100\n",
            "59/59 [==============================] - 5s 83ms/step - loss: 0.0014\n",
            "Epoch 48/100\n",
            "59/59 [==============================] - 5s 85ms/step - loss: 0.0014\n",
            "Epoch 49/100\n",
            "59/59 [==============================] - 5s 86ms/step - loss: 0.0014\n",
            "Epoch 50/100\n",
            "59/59 [==============================] - 5s 85ms/step - loss: 0.0015\n",
            "Epoch 51/100\n",
            "59/59 [==============================] - 5s 84ms/step - loss: 0.0015\n",
            "Epoch 52/100\n",
            "59/59 [==============================] - 5s 84ms/step - loss: 0.0017\n",
            "Epoch 53/100\n",
            "59/59 [==============================] - 5s 85ms/step - loss: 0.0017\n",
            "Epoch 54/100\n",
            "59/59 [==============================] - 5s 83ms/step - loss: 0.0013\n",
            "Epoch 55/100\n",
            "59/59 [==============================] - 5s 80ms/step - loss: 0.0021\n",
            "Epoch 56/100\n",
            "59/59 [==============================] - 5s 79ms/step - loss: 0.0012\n",
            "Epoch 57/100\n",
            "59/59 [==============================] - 5s 79ms/step - loss: 0.0017\n",
            "Epoch 58/100\n",
            "59/59 [==============================] - 5s 79ms/step - loss: 0.0012\n",
            "Epoch 59/100\n",
            "59/59 [==============================] - 5s 79ms/step - loss: 0.0013\n",
            "Epoch 60/100\n",
            "59/59 [==============================] - 5s 81ms/step - loss: 0.0013\n",
            "Epoch 61/100\n",
            "59/59 [==============================] - 5s 82ms/step - loss: 0.0012\n",
            "Epoch 62/100\n",
            "59/59 [==============================] - 5s 84ms/step - loss: 0.0012\n",
            "Epoch 63/100\n",
            "59/59 [==============================] - 5s 80ms/step - loss: 0.0012\n",
            "Epoch 64/100\n",
            "59/59 [==============================] - 5s 84ms/step - loss: 0.0011\n",
            "Epoch 65/100\n",
            "59/59 [==============================] - 5s 84ms/step - loss: 0.0011\n",
            "Epoch 66/100\n",
            "59/59 [==============================] - 5s 79ms/step - loss: 0.0010\n",
            "Epoch 67/100\n",
            "59/59 [==============================] - 5s 82ms/step - loss: 0.0012\n",
            "Epoch 68/100\n",
            "59/59 [==============================] - 5s 84ms/step - loss: 0.0012\n",
            "Epoch 69/100\n",
            "59/59 [==============================] - 5s 82ms/step - loss: 0.0010\n",
            "Epoch 70/100\n",
            "59/59 [==============================] - 5s 80ms/step - loss: 0.0011\n",
            "Epoch 71/100\n",
            "59/59 [==============================] - 5s 84ms/step - loss: 0.0013\n",
            "Epoch 72/100\n",
            "59/59 [==============================] - 5s 84ms/step - loss: 9.9265e-04\n",
            "Epoch 73/100\n",
            "59/59 [==============================] - 5s 82ms/step - loss: 9.5843e-04\n",
            "Epoch 74/100\n",
            "59/59 [==============================] - 5s 80ms/step - loss: 0.0011\n",
            "Epoch 75/100\n",
            "59/59 [==============================] - 5s 85ms/step - loss: 0.0010\n",
            "Epoch 76/100\n",
            "59/59 [==============================] - 5s 90ms/step - loss: 0.0010\n",
            "Epoch 77/100\n",
            "59/59 [==============================] - 5s 90ms/step - loss: 0.0012\n",
            "Epoch 78/100\n",
            "59/59 [==============================] - 5s 85ms/step - loss: 9.0352e-04\n",
            "Epoch 79/100\n",
            "59/59 [==============================] - 5s 83ms/step - loss: 0.0013\n",
            "Epoch 80/100\n",
            "59/59 [==============================] - 5s 81ms/step - loss: 0.0010\n",
            "Epoch 81/100\n",
            "59/59 [==============================] - 5s 88ms/step - loss: 0.0011\n",
            "Epoch 82/100\n",
            "59/59 [==============================] - 5s 84ms/step - loss: 0.0013\n",
            "Epoch 83/100\n",
            "59/59 [==============================] - 5s 87ms/step - loss: 9.8490e-04\n",
            "Epoch 84/100\n",
            "59/59 [==============================] - 5s 88ms/step - loss: 0.0011\n",
            "Epoch 85/100\n",
            "59/59 [==============================] - 5s 89ms/step - loss: 0.0011\n",
            "Epoch 86/100\n",
            "59/59 [==============================] - 5s 89ms/step - loss: 9.6515e-04\n",
            "Epoch 87/100\n",
            "59/59 [==============================] - 5s 91ms/step - loss: 0.0012\n",
            "Epoch 88/100\n",
            "59/59 [==============================] - 5s 88ms/step - loss: 0.0011\n",
            "Epoch 89/100\n",
            "59/59 [==============================] - 5s 87ms/step - loss: 9.4795e-04\n",
            "Epoch 90/100\n",
            "59/59 [==============================] - 5s 87ms/step - loss: 0.0011\n",
            "Epoch 91/100\n",
            "59/59 [==============================] - 5s 87ms/step - loss: 0.0011\n",
            "Epoch 92/100\n",
            "59/59 [==============================] - 5s 84ms/step - loss: 8.1554e-04\n",
            "Epoch 93/100\n",
            "59/59 [==============================] - 5s 85ms/step - loss: 9.8995e-04\n",
            "Epoch 94/100\n",
            "59/59 [==============================] - 5s 86ms/step - loss: 8.6028e-04\n",
            "Epoch 95/100\n",
            "59/59 [==============================] - 5s 85ms/step - loss: 0.0010\n",
            "Epoch 96/100\n",
            "59/59 [==============================] - 5s 84ms/step - loss: 0.0012\n",
            "Epoch 97/100\n",
            "59/59 [==============================] - 5s 85ms/step - loss: 0.0013\n",
            "Epoch 98/100\n",
            "59/59 [==============================] - 5s 85ms/step - loss: 8.3544e-04\n",
            "Epoch 99/100\n",
            "59/59 [==============================] - 5s 81ms/step - loss: 0.0012\n",
            "Epoch 100/100\n",
            "59/59 [==============================] - 5s 81ms/step - loss: 0.0012\n"
          ],
          "name": "stdout"
        },
        {
          "output_type": "execute_result",
          "data": {
            "text/plain": [
              "<tensorflow.python.keras.callbacks.History at 0x7f99673fcb90>"
            ]
          },
          "metadata": {
            "tags": []
          },
          "execution_count": 0
        }
      ]
    },
    {
      "cell_type": "markdown",
      "metadata": {
        "id": "WDur3o5AzsBI"
      },
      "source": [
        "### **Testing the model**"
      ]
    },
    {
      "cell_type": "markdown",
      "metadata": {
        "id": "7H2lE1nT4Uou"
      },
      "source": [
        "*This phase will involve gathering new data (from 2020 - now) which the model hasn't seen and assess how the model will perform on them*"
      ]
    },
    {
      "cell_type": "code",
      "metadata": {
        "id": "4M1dsx9CeBoS",
        "colab": {
          "base_uri": "https://localhost:8080/",
          "height": 235
        },
        "outputId": "0db5f16f-499d-4481-b3d3-a09a5abf7502"
      },
      "source": [
        "# Getting the testing data\r\n",
        "test_start = dt.datetime(2020,1,2)\r\n",
        "test_end = dt.datetime.now()\r\n",
        "\r\n",
        "test_data = web.DataReader(companyName, 'yahoo', test_start, test_end)\r\n",
        "test_data.head()"
      ],
      "execution_count": 10,
      "outputs": [
        {
          "output_type": "execute_result",
          "data": {
            "text/html": [
              "<div>\n",
              "<style scoped>\n",
              "    .dataframe tbody tr th:only-of-type {\n",
              "        vertical-align: middle;\n",
              "    }\n",
              "\n",
              "    .dataframe tbody tr th {\n",
              "        vertical-align: top;\n",
              "    }\n",
              "\n",
              "    .dataframe thead th {\n",
              "        text-align: right;\n",
              "    }\n",
              "</style>\n",
              "<table border=\"1\" class=\"dataframe\">\n",
              "  <thead>\n",
              "    <tr style=\"text-align: right;\">\n",
              "      <th></th>\n",
              "      <th>High</th>\n",
              "      <th>Low</th>\n",
              "      <th>Open</th>\n",
              "      <th>Close</th>\n",
              "      <th>Volume</th>\n",
              "      <th>Adj Close</th>\n",
              "    </tr>\n",
              "    <tr>\n",
              "      <th>Date</th>\n",
              "      <th></th>\n",
              "      <th></th>\n",
              "      <th></th>\n",
              "      <th></th>\n",
              "      <th></th>\n",
              "      <th></th>\n",
              "    </tr>\n",
              "  </thead>\n",
              "  <tbody>\n",
              "    <tr>\n",
              "      <th>2020-01-02</th>\n",
              "      <td>209.789993</td>\n",
              "      <td>206.270004</td>\n",
              "      <td>206.750000</td>\n",
              "      <td>209.779999</td>\n",
              "      <td>12077100</td>\n",
              "      <td>209.779999</td>\n",
              "    </tr>\n",
              "    <tr>\n",
              "      <th>2020-01-03</th>\n",
              "      <td>210.399994</td>\n",
              "      <td>206.949997</td>\n",
              "      <td>207.210007</td>\n",
              "      <td>208.669998</td>\n",
              "      <td>11188400</td>\n",
              "      <td>208.669998</td>\n",
              "    </tr>\n",
              "    <tr>\n",
              "      <th>2020-01-06</th>\n",
              "      <td>212.779999</td>\n",
              "      <td>206.520004</td>\n",
              "      <td>206.699997</td>\n",
              "      <td>212.600006</td>\n",
              "      <td>17058900</td>\n",
              "      <td>212.600006</td>\n",
              "    </tr>\n",
              "    <tr>\n",
              "      <th>2020-01-07</th>\n",
              "      <td>214.580002</td>\n",
              "      <td>211.750000</td>\n",
              "      <td>212.820007</td>\n",
              "      <td>213.059998</td>\n",
              "      <td>14912400</td>\n",
              "      <td>213.059998</td>\n",
              "    </tr>\n",
              "    <tr>\n",
              "      <th>2020-01-08</th>\n",
              "      <td>216.240005</td>\n",
              "      <td>212.610001</td>\n",
              "      <td>213.000000</td>\n",
              "      <td>215.220001</td>\n",
              "      <td>13475000</td>\n",
              "      <td>215.220001</td>\n",
              "    </tr>\n",
              "  </tbody>\n",
              "</table>\n",
              "</div>"
            ],
            "text/plain": [
              "                  High         Low  ...    Volume   Adj Close\n",
              "Date                                ...                      \n",
              "2020-01-02  209.789993  206.270004  ...  12077100  209.779999\n",
              "2020-01-03  210.399994  206.949997  ...  11188400  208.669998\n",
              "2020-01-06  212.779999  206.520004  ...  17058900  212.600006\n",
              "2020-01-07  214.580002  211.750000  ...  14912400  213.059998\n",
              "2020-01-08  216.240005  212.610001  ...  13475000  215.220001\n",
              "\n",
              "[5 rows x 6 columns]"
            ]
          },
          "metadata": {
            "tags": []
          },
          "execution_count": 0
        }
      ]
    },
    {
      "cell_type": "code",
      "metadata": {
        "colab": {
          "base_uri": "https://localhost:8080/"
        },
        "id": "LmP0NyVL1x_e",
        "outputId": "657bfaf3-53c4-4d5a-9635-a3ddaea98678"
      },
      "source": [
        "test_data.info()"
      ],
      "execution_count": 11,
      "outputs": [
        {
          "output_type": "stream",
          "text": [
            "<class 'pandas.core.frame.DataFrame'>\n",
            "DatetimeIndex: 303 entries, 2020-01-02 to 2021-03-16\n",
            "Data columns (total 6 columns):\n",
            " #   Column     Non-Null Count  Dtype  \n",
            "---  ------     --------------  -----  \n",
            " 0   High       303 non-null    float64\n",
            " 1   Low        303 non-null    float64\n",
            " 2   Open       303 non-null    float64\n",
            " 3   Close      303 non-null    float64\n",
            " 4   Volume     303 non-null    int64  \n",
            " 5   Adj Close  303 non-null    float64\n",
            "dtypes: float64(5), int64(1)\n",
            "memory usage: 16.6 KB\n"
          ],
          "name": "stdout"
        }
      ]
    },
    {
      "cell_type": "code",
      "metadata": {
        "id": "ReEpm_yz11gm"
      },
      "source": [
        "# Preparing the testing data\r\n",
        "actual_prices = test_data['Close'].values\r\n",
        "full_dataset = pd.concat((data['Close'], test_data['Close']), axis=0)\r\n",
        "\r\n",
        "model_inputs = full_dataset[len(full_dataset) - len(test_data) - prediction_days:].values\r\n",
        "model_inputs = model_inputs.reshape(-1, 1)\r\n",
        "model_inputs = scaler.transform(model_inputs)"
      ],
      "execution_count": 12,
      "outputs": []
    },
    {
      "cell_type": "code",
      "metadata": {
        "colab": {
          "base_uri": "https://localhost:8080/"
        },
        "id": "1l55Z81J5jPV",
        "outputId": "c1ae44d9-5534-4219-cfb7-678c2babde02"
      },
      "source": [
        "X_test = []\r\n",
        "\r\n",
        "for x in range(prediction_days, len(model_inputs)):\r\n",
        "  X_test.append(model_inputs[x - prediction_days:x, 0])\r\n",
        "\r\n",
        "# Reshaping the testing set data\r\n",
        "X_test = np.array(X_test)\r\n",
        "X_test = np.reshape(X_test, (X_test.shape[0], X_test.shape[1], 1))\r\n",
        "X_test.shape"
      ],
      "execution_count": 13,
      "outputs": [
        {
          "output_type": "execute_result",
          "data": {
            "text/plain": [
              "(303, 60, 1)"
            ]
          },
          "metadata": {
            "tags": []
          },
          "execution_count": 0
        }
      ]
    },
    {
      "cell_type": "code",
      "metadata": {
        "colab": {
          "base_uri": "https://localhost:8080/",
          "height": 336
        },
        "id": "2DLiXVda7aRZ",
        "outputId": "73174e13-764b-412c-defa-cf8fc8368d4c"
      },
      "source": [
        "# Testing the model by predicting on new data\r\n",
        "predicted_value = model.predict(X_test)\r\n",
        "predicted_value = scaler.inverse_transform(predicted_value)\r\n",
        "\r\n",
        "plt.figure(figsize=(7, 5))\r\n",
        "plt.title(\"Actual stock prices versus predicted ones\")\r\n",
        "plt.plot(actual_prices, color='black', label='Actual')\r\n",
        "plt.plot(predicted_value, color='red', label='Predicted')\r\n",
        "plt.legend()\r\n",
        "plt.show()"
      ],
      "execution_count": 14,
      "outputs": [
        {
          "output_type": "display_data",
          "data": {
            "image/png": "[encoded data removed]",
            "text/plain": [
              "<Figure size 504x360 with 1 Axes>"
            ]
          },
          "metadata": {
            "tags": [],
            "needs_background": "light"
          }
        }
      ]
    },
    {
      "cell_type": "markdown",
      "metadata": {
        "id": "LXb0aM_n4v8S"
      },
      "source": [
        "Although the model is not 100% efficient, it is able to determine the state of the stock market as seen from the chart above"
      ]
    },
    {
      "cell_type": "code",
      "metadata": {
        "colab": {
          "base_uri": "https://localhost:8080/"
        },
        "id": "U_jxzeovw5bx",
        "outputId": "77ff9307-dade-4174-ebeb-c3f5157ecd44"
      },
      "source": [
        "# Evaluating the model performance using r-squared\r\n",
        "from sklearn.metrics import r2_score\r\n",
        "print(\"The accuracy of the model is: \", r2_score(actual_prices, predicted_value)*100, \"%\")"
      ],
      "execution_count": 15,
      "outputs": [
        {
          "output_type": "stream",
          "text": [
            "The accuracy of the model is:  92.65643141086245 %\n"
          ],
          "name": "stdout"
        }
      ]
    },
    {
      "cell_type": "markdown",
      "metadata": {
        "id": "SAy5Xr1myCzh"
      },
      "source": [
        "### **Predicting the stock price for the next day**"
      ]
    },
    {
      "cell_type": "markdown",
      "metadata": {
        "id": "PCBkJESPyJKY"
      },
      "source": [
        "*This phase will involve preprocessing the testing data and predicting the next value from the model*"
      ]
    },
    {
      "cell_type": "code",
      "metadata": {
        "colab": {
          "base_uri": "https://localhost:8080/"
        },
        "id": "gDcK0a5rBH2i",
        "outputId": "5e76900a-cc08-4201-ec99-0c46403e995a"
      },
      "source": [
        "# Preparing data for predicting the next day\r\n",
        "real_data = np.array([model_inputs[len(model_inputs)+1-prediction_days : len(model_inputs+1), 0]])\r\n",
        "real_data = np.reshape(real_data, (real_data.shape[0], real_data.shape[1], 1))\r\n",
        "real_data.shape"
      ],
      "execution_count": 16,
      "outputs": [
        {
          "output_type": "execute_result",
          "data": {
            "text/plain": [
              "(1, 59, 1)"
            ]
          },
          "metadata": {
            "tags": []
          },
          "execution_count": 16
        }
      ]
    },
    {
      "cell_type": "code",
      "metadata": {
        "colab": {
          "base_uri": "https://localhost:8080/"
        },
        "id": "zS-FAEDhQ-Wc",
        "outputId": "5a67672e-5d4d-4344-ce11-0352c5cfb65c"
      },
      "source": [
        "# Predicting the value for the next day\r\n",
        "prediction = model.predict(real_data)\r\n",
        "prediction = scaler.inverse_transform(prediction)\r\n",
        "print(\"The predicted value for the Facebook stock market is: \", prediction)"
      ],
      "execution_count": 17,
      "outputs": [
        {
          "output_type": "stream",
          "text": [
            "WARNING:tensorflow:Model was constructed with shape (None, 60, 1) for input KerasTensor(type_spec=TensorSpec(shape=(None, 60, 1), dtype=tf.float32, name='lstm_input'), name='lstm_input', description=\"created by layer 'lstm_input'\"), but it was called on an input with incompatible shape (None, 59, 1).\n",
            "The predicted value for the Facebook stock market is:  [[264.9187]]\n"
          ],
          "name": "stdout"
        }
      ]
    },
    {
      "cell_type": "code",
      "metadata": {
        "colab": {
          "base_uri": "https://localhost:8080/"
        },
        "id": "GVottWoKTDaH",
        "outputId": "7987949f-577f-401c-f84d-018ca6ae8842"
      },
      "source": [
        "# # Saving the model\r\n",
        "model.save('stock_prediction.sav')\r\n",
        "\r\n",
        "# Reloading the saved model\r\n",
        "reloaded_model = tf.keras.models.load_model('stock_prediction.sav')"
      ],
      "execution_count": 18,
      "outputs": [
        {
          "output_type": "stream",
          "text": [
            "WARNING:absl:Found untraced functions such as lstm_cell_layer_call_and_return_conditional_losses, lstm_cell_layer_call_fn, lstm_cell_1_layer_call_and_return_conditional_losses, lstm_cell_1_layer_call_fn, lstm_cell_2_layer_call_and_return_conditional_losses while saving (showing 5 of 15). These functions will not be directly callable after loading.\n",
            "WARNING:absl:Found untraced functions such as lstm_cell_layer_call_and_return_conditional_losses, lstm_cell_layer_call_fn, lstm_cell_1_layer_call_and_return_conditional_losses, lstm_cell_1_layer_call_fn, lstm_cell_2_layer_call_and_return_conditional_losses while saving (showing 5 of 15). These functions will not be directly callable after loading.\n"
          ],
          "name": "stderr"
        },
        {
          "output_type": "stream",
          "text": [
            "INFO:tensorflow:Assets written to: stock_prediction.sav/assets\n"
          ],
          "name": "stdout"
        },
        {
          "output_type": "stream",
          "text": [
            "INFO:tensorflow:Assets written to: stock_prediction.sav/assets\n"
          ],
          "name": "stderr"
        }
      ]
    },
    {
      "cell_type": "code",
      "metadata": {
        "id": "WvJ1L7CxtLd4"
      },
      "source": [
        ""
      ],
      "execution_count": 18,
      "outputs": []
    }
  ]
}